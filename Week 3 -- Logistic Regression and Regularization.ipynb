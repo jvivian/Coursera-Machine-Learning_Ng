{
 "cells": [
  {
   "cell_type": "markdown",
   "metadata": {},
   "source": [
    "# Logistic Regression"
   ]
  },
  {
   "cell_type": "markdown",
   "metadata": {},
   "source": [
    "# Assignment 2"
   ]
  },
  {
   "cell_type": "code",
   "execution_count": 126,
   "metadata": {
    "collapsed": true
   },
   "outputs": [],
   "source": [
    "%matplotlib inline\n",
    "import pandas as pd\n",
    "import matplotlib.pyplot as plt\n",
    "import seaborn as sns\n",
    "import numpy as np\n",
    "from IPython import display\n",
    "from pandas.tools.plotting import scatter_matrix\n",
    "import scipy as sp"
   ]
  },
  {
   "cell_type": "code",
   "execution_count": 127,
   "metadata": {
    "collapsed": false
   },
   "outputs": [
    {
     "data": {
      "text/html": [
       "<style>body {\n",
       "    margin: 0;\n",
       "    font-family: Helvetica;\n",
       "}\n",
       "table.dataframe {\n",
       "    border-collapse: collapse;\n",
       "    border: none;\n",
       "}\n",
       "table.dataframe tr {\n",
       "    border: none;\n",
       "}\n",
       "table.dataframe td, table.dataframe th {\n",
       "    margin: 0;\n",
       "    border: 1px solid white;\n",
       "    padding-left: 0.25em;\n",
       "    padding-right: 0.25em;\n",
       "}\n",
       "table.dataframe th:not(:empty) {\n",
       "    background-color: #fec;\n",
       "    text-align: left;\n",
       "    font-weight: normal;\n",
       "}\n",
       "table.dataframe tr:nth-child(2) th:empty {\n",
       "    border-left: none;\n",
       "    border-right: 1px dashed #888;\n",
       "}\n",
       "table.dataframe td {\n",
       "    border: 2px solid #ccf;\n",
       "    background-color: #f4f4ff;\n",
       "}\n",
       "h3 {\n",
       "    color: white;\n",
       "    background-color: black;\n",
       "    padding: 0.5em;\n",
       "}\n",
       "</style>"
      ],
      "text/plain": [
       "<IPython.core.display.HTML object>"
      ]
     },
     "execution_count": 127,
     "metadata": {},
     "output_type": "execute_result"
    }
   ],
   "source": [
    "from IPython.core.display import HTML\n",
    "css = open('style-table.css').read() + open('style-notebook.css').read()\n",
    "HTML('<style>{}</style>'.format(css))"
   ]
  },
  {
   "cell_type": "code",
   "execution_count": 65,
   "metadata": {
    "collapsed": true
   },
   "outputs": [],
   "source": [
    "# Read in exam data\n",
    "data = pd.read_csv('Exercises_2/ex2/ex2data1.txt', header=None, names=['Exam1', 'Exam2', 'Admitted'])"
   ]
  },
  {
   "cell_type": "code",
   "execution_count": 66,
   "metadata": {
    "collapsed": false,
    "scrolled": true
   },
   "outputs": [],
   "source": [
    "# Let's add in x_0 to make linear algebra possible. (X*Theta)\n",
    "data.insert(0, 'x_0', value=np.ones([len(data),1]))"
   ]
  },
  {
   "cell_type": "code",
   "execution_count": 67,
   "metadata": {
    "collapsed": false
   },
   "outputs": [
    {
     "data": {
      "text/html": [
       "<div>\n",
       "<table border=\"1\" class=\"dataframe\">\n",
       "  <thead>\n",
       "    <tr style=\"text-align: right;\">\n",
       "      <th></th>\n",
       "      <th>x_0</th>\n",
       "      <th>Exam1</th>\n",
       "      <th>Exam2</th>\n",
       "      <th>Admitted</th>\n",
       "    </tr>\n",
       "  </thead>\n",
       "  <tbody>\n",
       "    <tr>\n",
       "      <th>0</th>\n",
       "      <td>1</td>\n",
       "      <td>34.623660</td>\n",
       "      <td>78.024693</td>\n",
       "      <td>0</td>\n",
       "    </tr>\n",
       "    <tr>\n",
       "      <th>1</th>\n",
       "      <td>1</td>\n",
       "      <td>30.286711</td>\n",
       "      <td>43.894998</td>\n",
       "      <td>0</td>\n",
       "    </tr>\n",
       "    <tr>\n",
       "      <th>2</th>\n",
       "      <td>1</td>\n",
       "      <td>35.847409</td>\n",
       "      <td>72.902198</td>\n",
       "      <td>0</td>\n",
       "    </tr>\n",
       "    <tr>\n",
       "      <th>3</th>\n",
       "      <td>1</td>\n",
       "      <td>60.182599</td>\n",
       "      <td>86.308552</td>\n",
       "      <td>1</td>\n",
       "    </tr>\n",
       "    <tr>\n",
       "      <th>4</th>\n",
       "      <td>1</td>\n",
       "      <td>79.032736</td>\n",
       "      <td>75.344376</td>\n",
       "      <td>1</td>\n",
       "    </tr>\n",
       "  </tbody>\n",
       "</table>\n",
       "</div>"
      ],
      "text/plain": [
       "   x_0      Exam1      Exam2  Admitted\n",
       "0    1  34.623660  78.024693         0\n",
       "1    1  30.286711  43.894998         0\n",
       "2    1  35.847409  72.902198         0\n",
       "3    1  60.182599  86.308552         1\n",
       "4    1  79.032736  75.344376         1"
      ]
     },
     "execution_count": 67,
     "metadata": {},
     "output_type": "execute_result"
    }
   ],
   "source": [
    "data.head()"
   ]
  },
  {
   "cell_type": "code",
   "execution_count": 226,
   "metadata": {
    "collapsed": false,
    "scrolled": true
   },
   "outputs": [
    {
     "data": {
      "image/png": "[encoded data removed]",
      "text/plain": [
       "<matplotlib.figure.Figure at 0x10a0958d0>"
      ]
     },
     "metadata": {},
     "output_type": "display_data"
    }
   ],
   "source": [
    "# Let's plot the data, labelleling which students were / were not admitted.\n",
    "sns.lmplot(x='Exam1', y='Exam2', data=data, hue='Admitted', fit_reg=False);"
   ]
  },
  {
   "cell_type": "code",
   "execution_count": 230,
   "metadata": {
    "collapsed": false
   },
   "outputs": [
    {
     "data": {
      "image/png": "[encoded data removed]",
      "text/plain": [
       "<matplotlib.figure.Figure at 0x10b8d4bd0>"
      ]
     },
     "metadata": {},
     "output_type": "display_data"
    }
   ],
   "source": [
    "# Seaborn is great and we can plot it with regression fits to our differently labelled data.\n",
    "# This emphasizes the separation between the two sets of data (although it will not often be this linear)\n",
    "sns.lmplot(x='Exam1', y='Exam2', data=data, hue='Admitted', fit_reg=True);\n"
   ]
  },
  {
   "cell_type": "code",
   "execution_count": 70,
   "metadata": {
    "collapsed": true
   },
   "outputs": [],
   "source": [
    "# Now let's define the sigmoid function g(z) = 1 / (1+e^(-z)) so we can use it in our hypothesis.\n",
    "def sigmoid(x):\n",
    "    return 1 / (1 + np.exp(-x))"
   ]
  },
  {
   "cell_type": "code",
   "execution_count": 128,
   "metadata": {
    "collapsed": false
   },
   "outputs": [
    {
     "data": {
      "image/png": "[encoded data removed]",
      "text/plain": [
       "<matplotlib.figure.Figure at 0x10a54cf50>"
      ]
     },
     "metadata": {},
     "output_type": "display_data"
    }
   ],
   "source": [
    "# Because plots are great, let's plot the sigmoid function.\n",
    "# This shows us that if H(x) > 0, y->1.  H(x) < 0, y->0.\n",
    "x = [i for i in xrange(-6, 7)]\n",
    "y = [sigmoid(i) for i in xrange(-6,7)]\n",
    "plt.title('Sigmoid/Logistic Function')\n",
    "plt.plot(x,y);"
   ]
  },
  {
   "cell_type": "code",
   "execution_count": 129,
   "metadata": {
    "collapsed": false
   },
   "outputs": [
    {
     "name": "stdout",
     "output_type": "stream",
     "text": [
      "Sigmoid  0: 0.5\n",
      "Sigmoid  1: 0.73\n",
      "Sigmoid -1: 0.27\n",
      "Sigmoid 10: 0.99995\n"
     ]
    }
   ],
   "source": [
    "# Test our function.  \"Large\" x should give values close to 1, small values close to 0. g(0) = 0.5\n",
    "print 'Sigmoid  0: %s' % sigmoid(0) \n",
    "print 'Sigmoid  1: %.2f' % sigmoid(1)\n",
    "print 'Sigmoid -1: %.2f' % sigmoid(-1)\n",
    "print 'Sigmoid 10: %.5f' % sigmoid(10)"
   ]
  },
  {
   "cell_type": "code",
   "execution_count": 130,
   "metadata": {
    "collapsed": false
   },
   "outputs": [
    {
     "name": "stdout",
     "output_type": "stream",
     "text": [
      "[[ 0  1]\n",
      " [-1 10]]\n"
     ]
    },
    {
     "data": {
      "text/plain": [
       "array([[ 0.5       ,  0.73105858],\n",
       "       [ 0.26894142,  0.9999546 ]])"
      ]
     },
     "execution_count": 130,
     "metadata": {},
     "output_type": "execute_result"
    }
   ],
   "source": [
    "# Our code even works with matrices! How cool.\n",
    "a = np.array([[0,1], [-1,10]])\n",
    "print a\n",
    "sigmoid(a)"
   ]
  },
  {
   "cell_type": "code",
   "execution_count": 211,
   "metadata": {
    "collapsed": false
   },
   "outputs": [],
   "source": [
    "# Implement CostFunction\n",
    "def cost_function(theta, X, Y):\n",
    "    g_xo = sigmoid(np.dot(X, theta))\n",
    "    p1 = np.dot(np.log(g_xo).T, Y)\n",
    "    p2 = np.dot(np.log(1-g_xo).T, (1-Y))\n",
    "    return float((-1.0/(len(X))) * (p1 + p2))\n",
    "    "
   ]
  },
  {
   "cell_type": "code",
   "execution_count": 212,
   "metadata": {
    "collapsed": false
   },
   "outputs": [
    {
     "name": "stdout",
     "output_type": "stream",
     "text": [
      "Cost_Fn should return 0.693, and we get: 0.693\n"
     ]
    }
   ],
   "source": [
    "# A. Ng says we should get a value of .693 if we were starting with a theta initialized at zero.\n",
    "X = np.array(data.drop('Admitted', 1))\n",
    "Y = np.array([data['Admitted']]).T\n",
    "theta = np.array([[0,0,0]]).T\n",
    "print 'Cost_Fn should return 0.693, and we get: %.3f' % cost_function(theta, X, Y)"
   ]
  },
  {
   "cell_type": "code",
   "execution_count": 213,
   "metadata": {
    "collapsed": false
   },
   "outputs": [
    {
     "data": {
      "text/plain": [
       "  status: 0\n",
       "    nfev: 287\n",
       " success: True\n",
       "     fun: 0.20349770159021513\n",
       "       x: array([-25.16130062,   0.20623142,   0.20147143])\n",
       " message: 'Optimization terminated successfully.'\n",
       "     nit: 157"
      ]
     },
     "execution_count": 213,
     "metadata": {},
     "output_type": "execute_result"
    }
   ],
   "source": [
    "# Now we'll try and optimize our parameters.\n",
    "sp.optimize.minimize(cost_function, theta, args=(X, Y), method = 'Nelder-Mead')"
   ]
  },
  {
   "cell_type": "code",
   "execution_count": 239,
   "metadata": {
    "collapsed": false
   },
   "outputs": [
    {
     "data": {
      "image/png": "[encoded data removed]",
      "text/plain": [
       "<matplotlib.figure.Figure at 0x10b02cf10>"
      ]
     },
     "metadata": {},
     "output_type": "display_data"
    }
   ],
   "source": [
    "# Now that we've optimized for our theta parameters, we can draw the boundary line.  \n",
    "# This is not as intuitive as it may appear since we now have 3 values for both theta and x.\n",
    "# We know that when Theta*X = 0 we get 0.5 which defines the boundary line.  So:\n",
    "# 0 = -25.16(x0) + .206(x1) + .201(x2).  Since we want to solve for a line, we'll solve for x2.\n",
    "# x2 = (-25.16(x0) + .206(x1)) / .201\n",
    "# x2 = (-25.16 / .201) + (.206 / .201)(x1)\n",
    "# x2 = mx + b = -1.025x + 125.17\n",
    "y = [x*-1.025 + 125.17 for x in xrange(100)]\n",
    "x = [x for x in xrange(100)]\n",
    "g = sns.lmplot(x='Exam1', y='Exam2', data=data, hue='Admitted', fit_reg=False)\n",
    "plt.xlim([20,110])\n",
    "plt.ylim([20,110])\n",
    "plt.plot(x,y);"
   ]
  },
  {
   "cell_type": "code",
   "execution_count": 246,
   "metadata": {
    "collapsed": false
   },
   "outputs": [
    {
     "name": "stdout",
     "output_type": "stream",
     "text": [
      "Student should have a 78% chance of passing. We get 0.776259504629\n"
     ]
    }
   ],
   "source": [
    "# A. Ng says the probability of a student passing with an Exam1 of 45 and an Exam2 of 85 is .776\n",
    "# H(x) = g(Theta*X) = sigmoid(Theta*X)\n",
    "print 'Student should have a 78% chance of passing. We get {}'.format(sigmoid(-25.1613 + 45*.20623 + 85*.20147))"
   ]
  },
  {
   "cell_type": "code",
   "execution_count": 288,
   "metadata": {
    "collapsed": false
   },
   "outputs": [],
   "source": [
    "def predict(X, Y, theta):\n",
    "    guesses = 0\n",
    "    for i in xrange(len(X)):\n",
    "        row = np.array([X[i]])\n",
    "        if sigmoid(np.dot(row, theta)) >= 0.5:\n",
    "            if Y[i] == 1:\n",
    "                guesses += 1\n",
    "        else:\n",
    "            if Y[i] == 0:\n",
    "                guesses += 1\n",
    "    return guesses*1.0 / len(X)"
   ]
  },
  {
   "cell_type": "code",
   "execution_count": 289,
   "metadata": {
    "collapsed": false
   },
   "outputs": [
    {
     "name": "stdout",
     "output_type": "stream",
     "text": [
      "Our ability to predict samples is: 89.0%\n"
     ]
    }
   ],
   "source": [
    "theta = np.array([[-25.1613, .20623, .20147]]).T # From optimization\n",
    "print 'Our ability to predict samples is: {}%'.format(predict(X, Y, theta)*100)"
   ]
  },
  {
   "cell_type": "code",
   "execution_count": null,
   "metadata": {
    "collapsed": true
   },
   "outputs": [],
   "source": []
  }
 ],
 "metadata": {
  "kernelspec": {
   "display_name": "Python 2",
   "language": "python",
   "name": "python2"
  },
  "language_info": {
   "codemirror_mode": {
    "name": "ipython",
    "version": 2
   },
   "file_extension": ".py",
   "mimetype": "text/x-python",
   "name": "python",
   "nbconvert_exporter": "python",
   "pygments_lexer": "ipython2",
   "version": "2.7.10"
  }
 },
 "nbformat": 4,
 "nbformat_minor": 0
}
