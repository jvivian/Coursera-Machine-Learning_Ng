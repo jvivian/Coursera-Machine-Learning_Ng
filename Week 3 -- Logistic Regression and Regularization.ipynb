{
 "cells": [
  {
   "cell_type": "markdown",
   "metadata": {},
   "source": [
    "# Logistic Regression"
   ]
  },
  {
   "cell_type": "markdown",
   "metadata": {},
   "source": [
    "# Assignment 2"
   ]
  },
  {
   "cell_type": "code",
   "execution_count": 126,
   "metadata": {
    "collapsed": true
   },
   "outputs": [],
   "source": [
    "%matplotlib inline\n",
    "import pandas as pd\n",
    "import matplotlib.pyplot as plt\n",
    "import seaborn as sns\n",
    "import numpy as np\n",
    "from IPython import display\n",
    "from pandas.tools.plotting import scatter_matrix\n",
    "import scipy as sp"
   ]
  },
  {
   "cell_type": "code",
   "execution_count": 127,
   "metadata": {
    "collapsed": false
   },
   "outputs": [
    {
     "data": {
      "text/html": [
       "<style>body {\n",
       "    margin: 0;\n",
       "    font-family: Helvetica;\n",
       "}\n",
       "table.dataframe {\n",
       "    border-collapse: collapse;\n",
       "    border: none;\n",
       "}\n",
       "table.dataframe tr {\n",
       "    border: none;\n",
       "}\n",
       "table.dataframe td, table.dataframe th {\n",
       "    margin: 0;\n",
       "    border: 1px solid white;\n",
       "    padding-left: 0.25em;\n",
       "    padding-right: 0.25em;\n",
       "}\n",
       "table.dataframe th:not(:empty) {\n",
       "    background-color: #fec;\n",
       "    text-align: left;\n",
       "    font-weight: normal;\n",
       "}\n",
       "table.dataframe tr:nth-child(2) th:empty {\n",
       "    border-left: none;\n",
       "    border-right: 1px dashed #888;\n",
       "}\n",
       "table.dataframe td {\n",
       "    border: 2px solid #ccf;\n",
       "    background-color: #f4f4ff;\n",
       "}\n",
       "h3 {\n",
       "    color: white;\n",
       "    background-color: black;\n",
       "    padding: 0.5em;\n",
       "}\n",
       "</style>"
      ],
      "text/plain": [
       "<IPython.core.display.HTML object>"
      ]
     },
     "execution_count": 127,
     "metadata": {},
     "output_type": "execute_result"
    }
   ],
   "source": [
    "from IPython.core.display import HTML\n",
    "css = open('style-table.css').read() + open('style-notebook.css').read()\n",
    "HTML('<style>{}</style>'.format(css))"
   ]
  },
  {
   "cell_type": "markdown",
   "metadata": {},
   "source": [
    "First, we'll read in the exam data:"
   ]
  },
  {
   "cell_type": "code",
   "execution_count": 291,
   "metadata": {
    "collapsed": true
   },
   "outputs": [],
   "source": [
    "data = pd.read_csv('Exercises_2/ex2/ex2data1.txt', header=None, names=['Exam1', 'Exam2', 'Admitted'])"
   ]
  },
  {
   "cell_type": "markdown",
   "metadata": {},
   "source": [
    "Let's add in $x_0$ to make the dot product of $X$ and $\\theta$ possible: ($X \\cdot \\theta$)"
   ]
  },
  {
   "cell_type": "code",
   "execution_count": 292,
   "metadata": {
    "collapsed": false,
    "scrolled": true
   },
   "outputs": [],
   "source": [
    "data.insert(0, 'x0', value=np.ones([len(data),1]))"
   ]
  },
  {
   "cell_type": "code",
   "execution_count": 293,
   "metadata": {
    "collapsed": false
   },
   "outputs": [
    {
     "data": {
      "text/html": [
       "<div>\n",
       "<table border=\"1\" class=\"dataframe\">\n",
       "  <thead>\n",
       "    <tr style=\"text-align: right;\">\n",
       "      <th></th>\n",
       "      <th>x0</th>\n",
       "      <th>Exam1</th>\n",
       "      <th>Exam2</th>\n",
       "      <th>Admitted</th>\n",
       "    </tr>\n",
       "  </thead>\n",
       "  <tbody>\n",
       "    <tr>\n",
       "      <th>0</th>\n",
       "      <td>1</td>\n",
       "      <td>34.623660</td>\n",
       "      <td>78.024693</td>\n",
       "      <td>0</td>\n",
       "    </tr>\n",
       "    <tr>\n",
       "      <th>1</th>\n",
       "      <td>1</td>\n",
       "      <td>30.286711</td>\n",
       "      <td>43.894998</td>\n",
       "      <td>0</td>\n",
       "    </tr>\n",
       "    <tr>\n",
       "      <th>2</th>\n",
       "      <td>1</td>\n",
       "      <td>35.847409</td>\n",
       "      <td>72.902198</td>\n",
       "      <td>0</td>\n",
       "    </tr>\n",
       "    <tr>\n",
       "      <th>3</th>\n",
       "      <td>1</td>\n",
       "      <td>60.182599</td>\n",
       "      <td>86.308552</td>\n",
       "      <td>1</td>\n",
       "    </tr>\n",
       "    <tr>\n",
       "      <th>4</th>\n",
       "      <td>1</td>\n",
       "      <td>79.032736</td>\n",
       "      <td>75.344376</td>\n",
       "      <td>1</td>\n",
       "    </tr>\n",
       "  </tbody>\n",
       "</table>\n",
       "</div>"
      ],
      "text/plain": [
       "   x0      Exam1      Exam2  Admitted\n",
       "0   1  34.623660  78.024693         0\n",
       "1   1  30.286711  43.894998         0\n",
       "2   1  35.847409  72.902198         0\n",
       "3   1  60.182599  86.308552         1\n",
       "4   1  79.032736  75.344376         1"
      ]
     },
     "execution_count": 293,
     "metadata": {},
     "output_type": "execute_result"
    }
   ],
   "source": [
    "data.head()"
   ]
  },
  {
   "cell_type": "markdown",
   "metadata": {},
   "source": [
    "Let's plot the data, labelleling which students were / were not admitted."
   ]
  },
  {
   "cell_type": "code",
   "execution_count": 294,
   "metadata": {
    "collapsed": false,
    "scrolled": true
   },
   "outputs": [
    {
     "data": {
      "image/png": "[encoded data removed]",
      "text/plain": [
       "<matplotlib.figure.Figure at 0x10b2fdb50>"
      ]
     },
     "metadata": {},
     "output_type": "display_data"
    }
   ],
   "source": [
    "sns.lmplot(x='Exam1', y='Exam2', data=data, hue='Admitted', fit_reg=False);"
   ]
  },
  {
   "cell_type": "markdown",
   "metadata": {},
   "source": [
    "Seaborn is great and we can redo that plot with regression fits for our differently labelled data. This emphasizes the spearation between the two sets of data (although it will not often be this obvious). "
   ]
  },
  {
   "cell_type": "code",
   "execution_count": 295,
   "metadata": {
    "collapsed": false
   },
   "outputs": [
    {
     "data": {
      "image/png": "[encoded data removed]",
      "text/plain": [
       "<matplotlib.figure.Figure at 0x10df5d910>"
      ]
     },
     "metadata": {},
     "output_type": "display_data"
    }
   ],
   "source": [
    "sns.lmplot(x='Exam1', y='Exam2', data=data, hue='Admitted', fit_reg=True);"
   ]
  },
  {
   "cell_type": "markdown",
   "metadata": {},
   "source": [
    "Now let's define the sigmoid function $g(z) = \\frac{1}{1+e^{-z}}$ so we can use it in our hypothesis."
   ]
  },
  {
   "cell_type": "code",
   "execution_count": 296,
   "metadata": {
    "collapsed": true
   },
   "outputs": [],
   "source": [
    "def sigmoid(x):\n",
    "    return 1 / (1 + np.exp(-x))"
   ]
  },
  {
   "cell_type": "markdown",
   "metadata": {},
   "source": [
    "Let's plot the sigmoid function to visualize the fact that when $H(x) > 0$, $y \\rightarrow 1$, whereas when $H(x) < 0$, $y \\rightarrow 0$."
   ]
  },
  {
   "cell_type": "code",
   "execution_count": 297,
   "metadata": {
    "collapsed": false
   },
   "outputs": [
    {
     "data": {
      "image/png": "[encoded data removed]",
      "text/plain": [
       "<matplotlib.figure.Figure at 0x10d976190>"
      ]
     },
     "metadata": {},
     "output_type": "display_data"
    }
   ],
   "source": [
    "x = [i for i in xrange(-6, 7)]\n",
    "y = [sigmoid(i) for i in xrange(-6,7)]\n",
    "plt.title('Sigmoid/Logistic Function')\n",
    "plt.plot(x,y);"
   ]
  },
  {
   "cell_type": "markdown",
   "metadata": {},
   "source": [
    "To ensure our function is working, we'll test it with a few values. Larger values should asymptote to 1 whereas smaller values should approach 0.  As shown above, $g(0) = 0.5$"
   ]
  },
  {
   "cell_type": "code",
   "execution_count": 298,
   "metadata": {
    "collapsed": false
   },
   "outputs": [
    {
     "name": "stdout",
     "output_type": "stream",
     "text": [
      "Sigmoid  0: 0.5\n",
      "Sigmoid  1: 0.73\n",
      "Sigmoid -1: 0.27\n",
      "Sigmoid 10: 0.99995\n"
     ]
    }
   ],
   "source": [
    "print 'Sigmoid  0: %s' % sigmoid(0) \n",
    "print 'Sigmoid  1: %.2f' % sigmoid(1)\n",
    "print 'Sigmoid -1: %.2f' % sigmoid(-1)\n",
    "print 'Sigmoid 10: %.5f' % sigmoid(10)"
   ]
  },
  {
   "cell_type": "markdown",
   "metadata": {},
   "source": [
    "Our code even works with matrices and vectors!"
   ]
  },
  {
   "cell_type": "code",
   "execution_count": 303,
   "metadata": {
    "collapsed": false
   },
   "outputs": [
    {
     "name": "stdout",
     "output_type": "stream",
     "text": [
      "[[ 0  1]\n",
      " [-1 10]]\n",
      "\n",
      "[[ 0.5         0.73105858]\n",
      " [ 0.26894142  0.9999546 ]]\n"
     ]
    }
   ],
   "source": [
    "a = np.array([[0,1], [-1,10]])\n",
    "print a\n",
    "print \n",
    "print sigmoid(a)"
   ]
  },
  {
   "cell_type": "markdown",
   "metadata": {},
   "source": [
    "Now we'll implement the Cost Function for Logistic Regression:\n",
    "$$ J(\\theta) = -\\frac{1}{m} \\big( log(g(X\\theta))^T \\cdot \\vec{y} + log(1-g(X\\theta))^T\\cdot(1-\\vec{y})\\big) $$"
   ]
  },
  {
   "cell_type": "code",
   "execution_count": 304,
   "metadata": {
    "collapsed": false
   },
   "outputs": [],
   "source": [
    "def cost_function(theta, X, Y):\n",
    "    g_xo = sigmoid(np.dot(X, theta))\n",
    "    p1 = np.dot(np.log(g_xo).T, Y)\n",
    "    p2 = np.dot(np.log(1-g_xo).T, (1-Y))\n",
    "    return float((-1.0/(len(X))) * (p1 + p2))"
   ]
  },
  {
   "cell_type": "markdown",
   "metadata": {},
   "source": [
    "A. Ng says we should get a value of .693 if we were starting with a $\\theta$ initialized at zero."
   ]
  },
  {
   "cell_type": "code",
   "execution_count": 305,
   "metadata": {
    "collapsed": false
   },
   "outputs": [
    {
     "name": "stdout",
     "output_type": "stream",
     "text": [
      "Cost_Fn should return 0.693, and we get: 0.693\n"
     ]
    }
   ],
   "source": [
    "X = np.array(data.drop('Admitted', 1))\n",
    "Y = np.array([data['Admitted']]).T\n",
    "theta = np.array([[0,0,0]]).T\n",
    "print 'Cost_Fn should return 0.693, and we get: %.3f' % cost_function(theta, X, Y)"
   ]
  },
  {
   "cell_type": "markdown",
   "metadata": {},
   "source": [
    "Now we'll optimize our parameters ($\\theta$) by utilizing a minimization algorithm."
   ]
  },
  {
   "cell_type": "code",
   "execution_count": 306,
   "metadata": {
    "collapsed": false
   },
   "outputs": [
    {
     "data": {
      "text/plain": [
       "  status: 0\n",
       "    nfev: 287\n",
       " success: True\n",
       "     fun: 0.20349770159021519\n",
       "       x: array([-25.16130062,   0.20623142,   0.20147143])\n",
       " message: 'Optimization terminated successfully.'\n",
       "     nit: 157"
      ]
     },
     "execution_count": 306,
     "metadata": {},
     "output_type": "execute_result"
    }
   ],
   "source": [
    "sp.optimize.minimize(cost_function, theta, args=(X, Y), method = 'Nelder-Mead')"
   ]
  },
  {
   "cell_type": "markdown",
   "metadata": {},
   "source": [
    "Now that we've optimized for our $\\theta$ parameters, we can draw the boundary line. This is not as intuitive as it may appear since we now have 3 values for both $\\theta$ and $X$. We know that when $\\theta\\cdot X = 0$, the sigmoid function returns $0.5$, which defines our boundary line.  So: \n",
    "\n",
    "$0 = -25.16(x_0) + 0.206(x_1) + 0.201(x_2)$.  Since we want to solve for a line, we'll solve for $x_2$.\n",
    "\n",
    "$$x_2 = \\frac{-25.16x_0 + 0.206x_1}{0.201}$$\n",
    "\n",
    "$$x_2 = \\frac{-25.16}{0.201} + \\frac{0.206}{0.201}x_1$$\n",
    "\n",
    "$$x_2 = mx + b = -1.025x_1 + 125.17$$"
   ]
  },
  {
   "cell_type": "code",
   "execution_count": 309,
   "metadata": {
    "collapsed": false
   },
   "outputs": [
    {
     "data": {
      "image/png": "[encoded data removed]",
      "text/plain": [
       "<matplotlib.figure.Figure at 0x10b0d79d0>"
      ]
     },
     "metadata": {},
     "output_type": "display_data"
    }
   ],
   "source": [
    "y = [x*-1.025 + 125.17 for x in xrange(110)]\n",
    "x = [x for x in xrange(110)]\n",
    "g = sns.lmplot(x='Exam1', y='Exam2', data=data, hue='Admitted', fit_reg=False)\n",
    "plt.xlim([20,110])\n",
    "plt.ylim([20,110])\n",
    "plt.plot(x,y);"
   ]
  },
  {
   "cell_type": "markdown",
   "metadata": {},
   "source": [
    "A. Ng says the probability of a student being admitted with an Exam1 of 45 and an Exam2 of 85 is 0.776. \n",
    "\n",
    "$H(x) = g(\\theta\\cdot X) = sigmoid(\\theta\\cdot X)$"
   ]
  },
  {
   "cell_type": "code",
   "execution_count": 246,
   "metadata": {
    "collapsed": false
   },
   "outputs": [
    {
     "name": "stdout",
     "output_type": "stream",
     "text": [
      "Student should have a 78% chance of passing. We get 0.776259504629\n"
     ]
    }
   ],
   "source": [
    "print 'Student should have a 78% chance of passing. We get {}'.format(sigmoid(-25.1613 + 45*.20623 + 85*.20147))"
   ]
  },
  {
   "cell_type": "code",
   "execution_count": 288,
   "metadata": {
    "collapsed": false
   },
   "outputs": [],
   "source": [
    "def predict(X, Y, theta):\n",
    "    guesses = 0\n",
    "    for i in xrange(len(X)):\n",
    "        row = np.array([X[i]])\n",
    "        if sigmoid(np.dot(row, theta)) >= 0.5:\n",
    "            if Y[i] == 1:\n",
    "                guesses += 1\n",
    "        else:\n",
    "            if Y[i] == 0:\n",
    "                guesses += 1\n",
    "    return guesses*1.0 / len(X)"
   ]
  },
  {
   "cell_type": "code",
   "execution_count": 308,
   "metadata": {
    "collapsed": false
   },
   "outputs": [
    {
     "name": "stdout",
     "output_type": "stream",
     "text": [
      "Our ability to predict admittance is: 89.0%\n"
     ]
    }
   ],
   "source": [
    "theta = np.array([[-25.1613, .20623, .20147]]).T # From optimization\n",
    "print 'Our ability to predict admittance is: {}%'.format(predict(X, Y, theta)*100)"
   ]
  },
  {
   "cell_type": "code",
   "execution_count": null,
   "metadata": {
    "collapsed": true
   },
   "outputs": [],
   "source": []
  }
 ],
 "metadata": {
  "kernelspec": {
   "display_name": "Python 2",
   "language": "python",
   "name": "python2"
  },
  "language_info": {
   "codemirror_mode": {
    "name": "ipython",
    "version": 2
   },
   "file_extension": ".py",
   "mimetype": "text/x-python",
   "name": "python",
   "nbconvert_exporter": "python",
   "pygments_lexer": "ipython2",
   "version": "2.7.10"
  }
 },
 "nbformat": 4,
 "nbformat_minor": 0
}
