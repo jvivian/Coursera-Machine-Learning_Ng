{
 "cells": [
  {
   "cell_type": "markdown",
   "metadata": {},
   "source": [
    "# Multivariate Linear Regression\n",
    "\n",
    "Hypothesis in Multivariate Regression\n",
    "\n",
    "$$ h_\\theta (x) = \\theta_0 + \\theta_1 x_1 + \\theta_2 x_2 + \\theta_3 x_3 + \\cdots + \\theta_n x_n $$\n",
    "\n",
    "### Feature Scaling\n",
    "\n",
    "We can speed up gradient descent by having each of our input values in roughly the same range. This is because θ will descend quickly on small ranges and slowly on large ranges, and so will oscillate inefficiently down to the optimum when the variables are very uneven.\n",
    "The way to prevent this is to modify the ranges of our input variables so that they are all roughly the same. Ideally:\n",
    "$−1≤xi≤1$\n",
    "or\n",
    "$−0.5≤xi≤0.5$\n",
    "\n",
    "Two techniques to help with this are feature scaling and mean normalization. Feature scaling involves dividing the input values by the range (i.e. the maximum value minus the minimum value) of the input variable, resulting in a new range of just 1. Mean normalization involves subtracting the average value for an input variable from the values for that input variable, resulting in a new average value for the input variable of just zero. To implement both of these techniques, adjust your input values as shown in this formula:\n",
    "\n",
    "$$x_i := \\dfrac{x_i - \\mu_i}{s_i}$$\n",
    "\n",
    "Where $\\mu_i$ is the average of all the values and $s_i$ is the maximum of the range of values minus the minimum or $s_i$ is the standard deviation.\n",
    "\n",
    "### Features and Polynomial Regression\n",
    "We can improve our features and the form of our hypothesis function in a couple different ways.\n",
    "We can combine multiple features into one. For example, we can combine $x_1$ and $x_2$ into a new feature $x_3$ by taking $x_1 * x_2$.\n",
    "Polynomial Regression\n",
    "Our hypothesis function need not be linear (a straight line) if that does not fit the data well.\n",
    "We can change the behavior or curve of our hypothesis function by making it a quadratic, cubic or square root function (or any other form).\n",
    "For example, if our hypothesis function is $h_\\theta(x)=\\theta_0+\\theta_1*x_1$ then we can simply duplicate the instances of $x_1$ to get the quadratic function $h_\\theta(x)=\\theta_0+\\theta_1*x_1+\\theta_2*x^2_1$ or the cubic function $h_\\theta(x)=\\theta_0+\\theta_1*x_1+\\theta_2*x^2_1+\\theta_3*x^3_1$\n",
    "In the cubic version, we have created new features $x_2$ and $x_3$ where $x_2=x^2_1$ and $x_3=x^3_1$.\n",
    "### Normal Equation\n",
    "The \"normal equation\" is a version of finding the optimum without iteration.\n",
    "$$ \n",
    "\\large\n",
    "\\theta = (X^T X)^{-1}X^T y $$\n",
    "\n",
    "There is no need to do feature scaling with the normal equation.\n",
    "The following is a comparison of gradient descent and the normal equation:\n",
    "\n",
    "| Gradient Descent           | Normal Equation         |\n",
    "|----------------------------|-------------------------|\n",
    "| Need to choose alpha       | No need for alpha       |\n",
    "| Needs many iterations      | No iterations           |\n",
    "| Works well when n is large | Slow if n is very large |\n",
    "\n",
    "With the normal equation, computing the inversion has complexity $\\mathcal{O}(n3)$. So if we have a very large number of features, the normal equation will be slow. In practice, according to A. Ng, when n exceeds 10,000 it might be a good time to go from a normal solution to an iterative process."
   ]
  },
  {
   "cell_type": "markdown",
   "metadata": {},
   "source": [
    "# Exercises"
   ]
  },
  {
   "cell_type": "code",
   "execution_count": 3,
   "metadata": {
    "collapsed": false
   },
   "outputs": [],
   "source": [
    "%matplotlib inline\n",
    "import pandas as pd\n",
    "import matplotlib.pyplot as plt\n",
    "import seaborn as sns\n",
    "import numpy as np\n",
    "from IPython import display\n",
    "from pandas.tools.plotting import scatter_matrix"
   ]
  },
  {
   "cell_type": "code",
   "execution_count": 4,
   "metadata": {
    "collapsed": false
   },
   "outputs": [
    {
     "data": {
      "text/html": [
       "<style>body {\n",
       "    margin: 0;\n",
       "    font-family: Helvetica;\n",
       "}\n",
       "table.dataframe {\n",
       "    border-collapse: collapse;\n",
       "    border: none;\n",
       "}\n",
       "table.dataframe tr {\n",
       "    border: none;\n",
       "}\n",
       "table.dataframe td, table.dataframe th {\n",
       "    margin: 0;\n",
       "    border: 1px solid white;\n",
       "    padding-left: 0.25em;\n",
       "    padding-right: 0.25em;\n",
       "}\n",
       "table.dataframe th:not(:empty) {\n",
       "    background-color: #fec;\n",
       "    text-align: left;\n",
       "    font-weight: normal;\n",
       "}\n",
       "table.dataframe tr:nth-child(2) th:empty {\n",
       "    border-left: none;\n",
       "    border-right: 1px dashed #888;\n",
       "}\n",
       "table.dataframe td {\n",
       "    border: 2px solid #ccf;\n",
       "    background-color: #f4f4ff;\n",
       "}\n",
       "h3 {\n",
       "    color: white;\n",
       "    background-color: black;\n",
       "    padding: 0.5em;\n",
       "}\n",
       "</style>"
      ],
      "text/plain": [
       "<IPython.core.display.HTML object>"
      ]
     },
     "execution_count": 4,
     "metadata": {},
     "output_type": "execute_result"
    }
   ],
   "source": [
    "from IPython.core.display import HTML\n",
    "css = open('style-table.css').read() + open('style-notebook.css').read()\n",
    "HTML('<style>{}</style>'.format(css))"
   ]
  },
  {
   "cell_type": "markdown",
   "metadata": {},
   "source": [
    "### Linear regression with one variable\n",
    "In this part of this exercise, you will implement linear regression with one variable to predict profits for a food truck. Suppose you are the CEO of a restaurant franchise and are considering different cities for opening a new outlet. The chain already has trucks in various cities and you have data for profits and populations from the cities. \n",
    "\n",
    "You would like to use this data to help you select which city to expand to next.\n",
    "The file ex1data1.txt contains the dataset for our linear regression problem. The first column is the population of a city and the second column is the profit of a food truck in that city. A negative value for profit indicates a loss."
   ]
  },
  {
   "cell_type": "code",
   "execution_count": 5,
   "metadata": {
    "collapsed": false
   },
   "outputs": [
    {
     "data": {
      "image/png": "[encoded data removed]",
      "text/plain": [
       "<matplotlib.figure.Figure at 0x108d9ea10>"
      ]
     },
     "metadata": {},
     "output_type": "display_data"
    }
   ],
   "source": [
    "data = pd.read_csv('Exercises_1/ex1/ex1data1.txt', header=None, names=['Population', 'Profit'])\n",
    "# Always sort your dataframe! \n",
    "data = data.sort('Population')\n",
    "# Use a semi-colon at the end of a plotting fn to hide garbage output\n",
    "data.plot(x='Population', y='Profit');"
   ]
  },
  {
   "cell_type": "markdown",
   "metadata": {},
   "source": [
    "### Plots Plots Plots\n",
    "Here we'll compare some of the different ways to visualize this simple dataset using pandas and seaborn."
   ]
  },
  {
   "cell_type": "code",
   "execution_count": 6,
   "metadata": {
    "collapsed": false
   },
   "outputs": [
    {
     "data": {
      "image/png": "[encoded data removed]",
      "text/plain": [
       "<matplotlib.figure.Figure at 0x109908d50>"
      ]
     },
     "metadata": {},
     "output_type": "display_data"
    },
    {
     "data": {
      "image/png": "[encoded data removed]",
      "text/plain": [
       "<matplotlib.figure.Figure at 0x108e61510>"
      ]
     },
     "metadata": {},
     "output_type": "display_data"
    },
    {
     "data": {
      "image/png": "[encoded data removed]",
      "text/plain": [
       "<matplotlib.figure.Figure at 0x109d9b710>"
      ]
     },
     "metadata": {},
     "output_type": "display_data"
    },
    {
     "data": {
      "image/png": "[encoded data removed]",
      "text/plain": [
       "<matplotlib.figure.Figure at 0x108e61590>"
      ]
     },
     "metadata": {},
     "output_type": "display_data"
    }
   ],
   "source": [
    "x = data['Population']\n",
    "y = data['Profit']\n",
    "# Here we'll compare some different ways to visualize our data. \n",
    "sns.jointplot(x, y);\n",
    "# sexy context manager, way to go seaborn.\n",
    "with sns.axes_style('white'):\n",
    "    sns.jointplot(x, y, kind='hex', color='k');\n",
    "    sns.jointplot(x, y, kind='kde', color='k');\n",
    "sns.pairplot(data);"
   ]
  },
  {
   "cell_type": "markdown",
   "metadata": {},
   "source": [
    "### Gradient Descent"
   ]
  },
  {
   "cell_type": "markdown",
   "metadata": {},
   "source": [
    "Our objective will be to minimize the cost function\n",
    "$$J(\\theta) = \\dfrac {1}{2m} \\displaystyle \\sum_{i=1}^m \\left (h_\\theta (x^{(i)}) - y^{(i)} \\right)^2 $$ \n",
    "Where our hypothesis is\n",
    "$$h_\\theta (x) = \\theta_0 + \\theta_1 x_1 + \\theta_2 x_2 + \\theta_3 x_3 + \\cdots + \\theta_n x_n$$\n",
    "\n",
    "Recall that the parameters of your model are the θj values. These are the values you will adjust to minimize cost J(θ). One way to do this is to use the batch gradient descent algorithm. In batch gradient descent, each iteration performs the update\n",
    "$$\\begin{align*}\n",
    "& \\text{repeat until convergence:} \\; \\lbrace \\newline \n",
    "\\; & \\theta_0 := \\theta_0 - \\alpha \\frac{1}{m} \\sum\\limits_{i=1}^{m} (h_\\theta(x^{(i)}) - y^{(i)}) \\cdot x_0^{(i)}\\newline\n",
    "\\; & \\theta_1 := \\theta_1 - \\alpha \\frac{1}{m} \\sum\\limits_{i=1}^{m} (h_\\theta(x^{(i)}) - y^{(i)}) \\cdot x_1^{(i)} \\newline\n",
    "\\; & \\theta_2 := \\theta_2 - \\alpha \\frac{1}{m} \\sum\\limits_{i=1}^{m} (h_\\theta(x^{(i)}) - y^{(i)}) \\cdot x_2^{(i)} \\newline\n",
    "& \\cdots\n",
    "\\newline \\rbrace\n",
    "\\end{align*}$$"
   ]
  },
  {
   "cell_type": "code",
   "execution_count": 7,
   "metadata": {
    "collapsed": false,
    "scrolled": true
   },
   "outputs": [],
   "source": [
    "# Insert a column vector of '1's that represent x_0 into our dataframe\n",
    "data.insert(0, 'x_0', value=np.ones([len(data),1]))\n",
    "# Create our starting values theta: a 2,1 matrix that starts at 0 and has no slope.\n",
    "theta = pd.DataFrame(0, index=np.arange(2), columns=[0])"
   ]
  },
  {
   "cell_type": "code",
   "execution_count": 8,
   "metadata": {
    "collapsed": false,
    "scrolled": false
   },
   "outputs": [
    {
     "data": {
      "text/html": [
       "<div>\n",
       "<table border=\"1\" class=\"dataframe\">\n",
       "  <thead>\n",
       "    <tr style=\"text-align: right;\">\n",
       "      <th></th>\n",
       "      <th>x_0</th>\n",
       "      <th>Population</th>\n",
       "      <th>Profit</th>\n",
       "    </tr>\n",
       "  </thead>\n",
       "  <tbody>\n",
       "    <tr>\n",
       "      <th>74</th>\n",
       "      <td>1</td>\n",
       "      <td>5.0269</td>\n",
       "      <td>-2.6807</td>\n",
       "    </tr>\n",
       "    <tr>\n",
       "      <th>77</th>\n",
       "      <td>1</td>\n",
       "      <td>5.0365</td>\n",
       "      <td>5.7014</td>\n",
       "    </tr>\n",
       "    <tr>\n",
       "      <th>9</th>\n",
       "      <td>1</td>\n",
       "      <td>5.0546</td>\n",
       "      <td>3.8166</td>\n",
       "    </tr>\n",
       "    <tr>\n",
       "      <th>89</th>\n",
       "      <td>1</td>\n",
       "      <td>5.0594</td>\n",
       "      <td>2.8214</td>\n",
       "    </tr>\n",
       "    <tr>\n",
       "      <th>46</th>\n",
       "      <td>1</td>\n",
       "      <td>5.0702</td>\n",
       "      <td>5.1337</td>\n",
       "    </tr>\n",
       "  </tbody>\n",
       "</table>\n",
       "</div>"
      ],
      "text/plain": [
       "    x_0  Population  Profit\n",
       "74    1      5.0269 -2.6807\n",
       "77    1      5.0365  5.7014\n",
       "9     1      5.0546  3.8166\n",
       "89    1      5.0594  2.8214\n",
       "46    1      5.0702  5.1337"
      ]
     },
     "execution_count": 8,
     "metadata": {},
     "output_type": "execute_result"
    }
   ],
   "source": [
    "data.head()"
   ]
  },
  {
   "cell_type": "code",
   "execution_count": 9,
   "metadata": {
    "collapsed": false
   },
   "outputs": [
    {
     "data": {
      "text/html": [
       "<div>\n",
       "<table border=\"1\" class=\"dataframe\">\n",
       "  <thead>\n",
       "    <tr style=\"text-align: right;\">\n",
       "      <th></th>\n",
       "      <th>0</th>\n",
       "    </tr>\n",
       "  </thead>\n",
       "  <tbody>\n",
       "    <tr>\n",
       "      <th>0</th>\n",
       "      <td>0</td>\n",
       "    </tr>\n",
       "    <tr>\n",
       "      <th>1</th>\n",
       "      <td>0</td>\n",
       "    </tr>\n",
       "  </tbody>\n",
       "</table>\n",
       "</div>"
      ],
      "text/plain": [
       "   0\n",
       "0  0\n",
       "1  0"
      ]
     },
     "execution_count": 9,
     "metadata": {},
     "output_type": "execute_result"
    }
   ],
   "source": [
    "theta"
   ]
  },
  {
   "cell_type": "code",
   "execution_count": null,
   "metadata": {
    "collapsed": false
   },
   "outputs": [],
   "source": [
    "def gradient_descent(data, theta, iterations=1500, alpha=0.01):\n",
    "    '''\n",
    "    Accepts a dataframe representing the data (and x_0)\n",
    "    and a vector that represents theta_0 and theta_1 and\n",
    "    returns a vector representing the regressed fit to the data. \n",
    "    '''\n",
    "    # Arrays are more efficient at row iteration for large m\n",
    "    x = np.array(data.drop('Profit', 1))\n",
    "    y = np.array(data['Profit'])\n",
    "    # The number of samples in our dataset\n",
    "    m = len(data)\n",
    "    cost_fns = []\n",
    "    for i in xrange(iterations):\n",
    "        cost_fn = np.dot(x.T, np.dot(x,theta) - np.array([y]).T) / m\n",
    "        theta = theta - (alpha * cost_fn)\n",
    "        cost_fns.append(cost_fn)\n",
    "        display.clear_output(wait=True)\n",
    "        display.display(theta)\n",
    "    return theta"
   ]
  },
  {
   "cell_type": "code",
   "execution_count": null,
   "metadata": {
    "collapsed": false
   },
   "outputs": [
    {
     "data": {
      "text/html": [
       "<div>\n",
       "<table border=\"1\" class=\"dataframe\">\n",
       "  <thead>\n",
       "    <tr style=\"text-align: right;\">\n",
       "      <th></th>\n",
       "      <th>0</th>\n",
       "    </tr>\n",
       "  </thead>\n",
       "  <tbody>\n",
       "    <tr>\n",
       "      <th>0</th>\n",
       "      <td>-3.886735</td>\n",
       "    </tr>\n",
       "    <tr>\n",
       "      <th>1</th>\n",
       "      <td>1.192125</td>\n",
       "    </tr>\n",
       "  </tbody>\n",
       "</table>\n",
       "</div>"
      ],
      "text/plain": [
       "          0\n",
       "0 -3.886735\n",
       "1  1.192125"
      ]
     },
     "metadata": {},
     "output_type": "display_data"
    }
   ],
   "source": [
    "new_theta = gradient_descent(data, theta)"
   ]
  },
  {
   "cell_type": "code",
   "execution_count": null,
   "metadata": {
    "collapsed": false,
    "scrolled": true
   },
   "outputs": [],
   "source": [
    "# Plot our data\n",
    "plt.scatter(data['Population'], data['Profit']);"
   ]
  },
  {
   "cell_type": "code",
   "execution_count": null,
   "metadata": {
    "collapsed": false
   },
   "outputs": [],
   "source": [
    "# Plot our data with our regression fit\n",
    "theta_0 = new_theta[0][0]\n",
    "theta_1 = new_theta[0][1]\n",
    "x = data['Population']\n",
    "y = theta_0 + x*theta_1\n",
    "\n",
    "plt.plot(x,y);\n",
    "plt.xlabel('Population of City in 10,000s')\n",
    "plt.ylabel('Proft in $10,000s')\n",
    "plt.scatter(data['Population'], data['Profit']);"
   ]
  },
  {
   "cell_type": "markdown",
   "metadata": {},
   "source": [
    "Your final values for θ will also be used to make predictions on profits in areas of 35,000 and 70,000 people.\n",
    "Ergo, compute profits for x=3.5, and x=7."
   ]
  },
  {
   "cell_type": "code",
   "execution_count": null,
   "metadata": {
    "collapsed": false
   },
   "outputs": [],
   "source": [
    "y_35k = theta_0 + theta_1 * 3.5\n",
    "y_70k = theta_0 + theta_1 * 7\n",
    "print 'Profits for a population of 35k: {}, and for 70K: {}'.format(round(y_35k*1e4,2), round(y_70k*1e4,2))"
   ]
  },
  {
   "cell_type": "markdown",
   "metadata": {},
   "source": [
    "### Cool bonus! \n",
    "Let's redefine gradient descent to plot our data and get a live update of the regression line."
   ]
  },
  {
   "cell_type": "code",
   "execution_count": null,
   "metadata": {
    "collapsed": false
   },
   "outputs": [],
   "source": [
    "def gradient_descent_plot(data, theta, iterations=1500, alpha=0.01):\n",
    "    '''\n",
    "    Accepts a dataframe representing the data (and x_0)\n",
    "    and a vector that represents theta_0 and theta_1 and\n",
    "    returns a vector representing the regressed fit to the data. \n",
    "    '''\n",
    "    # Arrays are more efficient at row iteration for large m\n",
    "    x = np.array(data.drop('Profit', 1))\n",
    "    y = np.array([data['Profit']])\n",
    "    # The number of samples in our dataset\n",
    "    m = len(data)\n",
    "    cost_fns = []\n",
    "    for i in xrange(iterations):\n",
    "        cost_fn = np.dot(x.T, np.dot(x,theta) - y.T) / m\n",
    "        theta = theta - (alpha * cost_fn)\n",
    "        cost_fns.append(cost_fn)\n",
    "        # Plot stuff\n",
    "        if i%10 == 0:\n",
    "            plt.cla()\n",
    "            line_x = data['Population']\n",
    "            line_y = theta[0][0] + line_x * theta[0][1]\n",
    "            plt.plot(line_x,line_y);\n",
    "            plt.xlabel('Population of City in 10,000s')\n",
    "            plt.ylabel('Proft in $10,000s')\n",
    "            plt.scatter(data['Population'], data['Profit']);\n",
    "            display.display(plt.gcf())\n",
    "            display.display(iterations-i)\n",
    "            display.clear_output(wait=True)\n",
    "    return theta"
   ]
  },
  {
   "cell_type": "code",
   "execution_count": null,
   "metadata": {
    "collapsed": false,
    "scrolled": true
   },
   "outputs": [],
   "source": [
    "# This is slow to do every iteration so it updates ever 10 iterations\n",
    "new_theta = gradient_descent_plot(data, theta)"
   ]
  },
  {
   "cell_type": "markdown",
   "metadata": {},
   "source": [
    "### Visualize the Cost Function\n"
   ]
  },
  {
   "cell_type": "code",
   "execution_count": null,
   "metadata": {
    "collapsed": false
   },
   "outputs": [],
   "source": [
    "def compute_cost_function(data, iterations=1500):\n",
    "    \"\"\"\n",
    "    Given an area (in this case -10, 10) \n",
    "    \"\"\"\n",
    "    x = np.array(data.drop('Profit', 1))\n",
    "    y = np.array([data['Profit']])\n",
    "    m = len(data)\n",
    "    z = []\n",
    "    for i in np.arange(-10, 10, .1):\n",
    "        column = []\n",
    "        for j in np.arange(-10, 10, .1):\n",
    "            theta = np.array([[i,j]]).T\n",
    "            cost_fn = 1/(2.0*m) * np.dot((np.dot(x, theta) - y.T).T, (np.dot(x, theta) - y.T))\n",
    "            column.append(float(cost_fn))\n",
    "        z.append(column)\n",
    "    \n",
    "    return np.array(z)"
   ]
  },
  {
   "cell_type": "code",
   "execution_count": null,
   "metadata": {
    "collapsed": false,
    "scrolled": true
   },
   "outputs": [],
   "source": [
    "z = compute_cost_function(data)"
   ]
  },
  {
   "cell_type": "code",
   "execution_count": null,
   "metadata": {
    "collapsed": false,
    "scrolled": false
   },
   "outputs": [],
   "source": [
    "# Run this cell to get a sweet 360 degree view of our cost function!\n",
    "x, y = np.arange(-10,10,.1), np.arange(-10,10,.1)\n",
    "xx, yy = np.meshgrid(x,y,indexing='ij')\n",
    "from mpl_toolkits.mplot3d import Axes3D\n",
    "fig = plt.figure()\n",
    "ax = Axes3D(fig)\n",
    "ax.plot_surface(xx, yy, z, cmap='Oranges')\n",
    "ax.set_xlabel('Theta Zero')\n",
    "ax.set_ylabel('Theta One')\n",
    "ax.set_zlabel('Cost Function')\n",
    "for ii in xrange(0,360,5):\n",
    "    ax.view_init(elev=10., azim=ii)\n",
    "    display.display(plt.gcf())\n",
    "    display.clear_output(wait=True)"
   ]
  },
  {
   "cell_type": "markdown",
   "metadata": {},
   "source": [
    "### Normal Equation"
   ]
  },
  {
   "cell_type": "code",
   "execution_count": null,
   "metadata": {
    "collapsed": true
   },
   "outputs": [],
   "source": [
    "def normal_equation(data, theta):\n",
    "    \"\"\"\n",
    "    This function will explicitly solve for theta that is the minimum of the cost fn\n",
    "    θ = 􏰀 (X.T * X)^-1 􏰁 (X.T * ⃗y)\n",
    "    \"\"\"\n",
    "    x = np.array(data.drop('Profit', 1)) # m by n\n",
    "    y = np.array([data['Profit']]).T # m by 1\n",
    "    \n",
    "    first_component = np.linalg.inv(np.dot(x.T, x))\n",
    "    second_component = np.dot(x.T, y)\n",
    "    return np.dot(first_component, second_component)"
   ]
  },
  {
   "cell_type": "code",
   "execution_count": null,
   "metadata": {
    "collapsed": false
   },
   "outputs": [],
   "source": [
    "min_theta = normal_equation(data, theta)"
   ]
  },
  {
   "cell_type": "code",
   "execution_count": null,
   "metadata": {
    "collapsed": false
   },
   "outputs": [],
   "source": [
    "min_theta = pd.DataFrame(min_theta)\n",
    "min_theta"
   ]
  }
 ],
 "metadata": {
  "kernelspec": {
   "display_name": "Python 2",
   "language": "python",
   "name": "python2"
  },
  "language_info": {
   "codemirror_mode": {
    "name": "ipython",
    "version": 2
   },
   "file_extension": ".py",
   "mimetype": "text/x-python",
   "name": "python",
   "nbconvert_exporter": "python",
   "pygments_lexer": "ipython2",
   "version": "2.7.10"
  }
 },
 "nbformat": 4,
 "nbformat_minor": 0
}
